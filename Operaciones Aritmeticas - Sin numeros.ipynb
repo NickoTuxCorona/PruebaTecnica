{
 "cells": [
  {
   "cell_type": "markdown",
   "id": "c587886d",
   "metadata": {},
   "source": [
    "# Conjunto funciones que ejecuten operaciones aritméticas básicas."
   ]
  },
  {
   "cell_type": "markdown",
   "id": "b37b4d55",
   "metadata": {},
   "source": [
    "### Numeros"
   ]
  },
  {
   "cell_type": "code",
   "execution_count": 1,
   "id": "e3946b5f",
   "metadata": {},
   "outputs": [],
   "source": [
    "def zero(operacion=None):\n",
    "    if operacion is None:\n",
    "        return len('')\n",
    "    else:\n",
    "        return operacion(zero())\n",
    "\n",
    "def one(operacion=None):\n",
    "    if operacion is None:\n",
    "        return len('*')\n",
    "    else:\n",
    "        return operacion(one())\n",
    "\n",
    "def two(operacion=None):\n",
    "    if operacion is None:\n",
    "        return len('**')\n",
    "    else:\n",
    "        return operacion(two())\n",
    "\n",
    "def three(operacion=None):\n",
    "    if operacion is None:\n",
    "        return len('***')\n",
    "    else:\n",
    "        return operacion(three())\n",
    "\n",
    "def four(operacion=None):\n",
    "    if operacion is None:\n",
    "        return len('****')\n",
    "    else:\n",
    "        return operacion(four())\n",
    "\n",
    "def five(operacion=None):\n",
    "    if operacion is None:\n",
    "        return len('*****')\n",
    "    else:\n",
    "        return operacion(five())\n",
    "\n",
    "def six(operacion=None):\n",
    "    if operacion is None:\n",
    "        return len('******')\n",
    "    else:\n",
    "        return operacion(six())\n",
    "\n",
    "def seven(operacion=None):\n",
    "    if operacion is None:\n",
    "        return len('*******')\n",
    "    else:\n",
    "        return operacion(seven())\n",
    "\n",
    "def eight(operacion=None):\n",
    "    if operacion is None:\n",
    "        return len('********')\n",
    "    else:\n",
    "        return operacion(eight())\n",
    "\n",
    "def nine(operacion=None):\n",
    "    if operacion is None:\n",
    "        return len('*********')\n",
    "    else:\n",
    "        return operacion(nine())"
   ]
  },
  {
   "cell_type": "markdown",
   "id": "41e68ee2",
   "metadata": {},
   "source": [
    "### Operaciones Aritmeticas"
   ]
  },
  {
   "cell_type": "code",
   "execution_count": 2,
   "id": "04c0d81e",
   "metadata": {},
   "outputs": [],
   "source": [
    "def plus(num):\n",
    "    def add(n):\n",
    "        return n + num\n",
    "    return add\n",
    "\n",
    "def minus(num):\n",
    "    def resta(n):\n",
    "        return n - num\n",
    "    return resta\n",
    "\n",
    "def times(num):\n",
    "    def mult(n):\n",
    "        return n * num\n",
    "    return mult\n",
    "\n",
    "def divided_by(num):\n",
    "    def divby(n):\n",
    "        return n / num\n",
    "    return divby"
   ]
  },
  {
   "cell_type": "markdown",
   "id": "2ca82943",
   "metadata": {},
   "source": [
    "### Pruebas"
   ]
  },
  {
   "cell_type": "code",
   "execution_count": 3,
   "id": "598b983f",
   "metadata": {},
   "outputs": [
    {
     "data": {
      "text/plain": [
       "20"
      ]
     },
     "execution_count": 3,
     "metadata": {},
     "output_type": "execute_result"
    }
   ],
   "source": [
    "four(times(five()))"
   ]
  },
  {
   "cell_type": "code",
   "execution_count": 4,
   "id": "8162ed3a",
   "metadata": {},
   "outputs": [
    {
     "data": {
      "text/plain": [
       "9"
      ]
     },
     "execution_count": 4,
     "metadata": {},
     "output_type": "execute_result"
    }
   ],
   "source": [
    "one(plus(eight()))"
   ]
  },
  {
   "cell_type": "code",
   "execution_count": 5,
   "id": "b4c26aa2",
   "metadata": {},
   "outputs": [
    {
     "data": {
      "text/plain": [
       "4"
      ]
     },
     "execution_count": 5,
     "metadata": {},
     "output_type": "execute_result"
    }
   ],
   "source": [
    "seven(minus(three()))"
   ]
  },
  {
   "cell_type": "code",
   "execution_count": 6,
   "id": "57bac79c",
   "metadata": {},
   "outputs": [
    {
     "data": {
      "text/plain": [
       "3.0"
      ]
     },
     "execution_count": 6,
     "metadata": {},
     "output_type": "execute_result"
    }
   ],
   "source": [
    "nine(divided_by(three()))"
   ]
  }
 ],
 "metadata": {
  "kernelspec": {
   "display_name": "Python 3 (ipykernel)",
   "language": "python",
   "name": "python3"
  },
  "language_info": {
   "codemirror_mode": {
    "name": "ipython",
    "version": 3
   },
   "file_extension": ".py",
   "mimetype": "text/x-python",
   "name": "python",
   "nbconvert_exporter": "python",
   "pygments_lexer": "ipython3",
   "version": "3.9.13"
  }
 },
 "nbformat": 4,
 "nbformat_minor": 5
}
